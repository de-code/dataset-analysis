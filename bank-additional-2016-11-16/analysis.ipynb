{
 "cells": [
  {
   "cell_type": "markdown",
   "metadata": {},
   "source": [
    "Analysis of bank-additional.csv dataset\n",
    "======================================="
   ]
  },
  {
   "cell_type": "markdown",
   "metadata": {},
   "source": [
    "# Data provenance (light)\n",
    "The file [bank-additional.csv](bank-additional.csv) was provided as part of the [meetup on the 16 Nov 2016](https://www.meetup.com/Digital/events/233406302/).\n",
    "\n",
    "There is no separate test set."
   ]
  },
  {
   "cell_type": "markdown",
   "metadata": {},
   "source": [
    "# Task\n",
    "Predict 'y' (customer purchased product) based on other columns.\n",
    "\n",
    "See [bank-additional-names.txt](bank-additional-names.txt) for further information."
   ]
  },
  {
   "cell_type": "markdown",
   "metadata": {},
   "source": [
    "# Setup"
   ]
  },
  {
   "cell_type": "code",
   "execution_count": 1,
   "metadata": {
    "collapsed": true
   },
   "outputs": [],
   "source": [
    "from IPython.display import display, HTML"
   ]
  },
  {
   "cell_type": "code",
   "execution_count": 2,
   "metadata": {
    "collapsed": false
   },
   "outputs": [],
   "source": [
    "import numpy as np\n",
    "import pandas as pd\n",
    "import matplotlib.pyplot as plt\n",
    "import seaborn as sns\n",
    "from sklearn.metrics import mean_squared_error, accuracy_score\n",
    "from sklearn.ensemble import RandomForestClassifier\n",
    "from sklearn.model_selection import train_test_split\n",
    "from sklearn.linear_model import LogisticRegression\n",
    "\n",
    "# Make sure plots are shown inside the notebook\n",
    "%matplotlib inline\n",
    "plt.rcParams['figure.figsize'] = (10, 6)"
   ]
  },
  {
   "cell_type": "code",
   "execution_count": 3,
   "metadata": {
    "collapsed": false
   },
   "outputs": [
    {
     "data": {
      "text/html": [
       "<div>\n",
       "<table border=\"1\" class=\"dataframe\">\n",
       "  <thead>\n",
       "    <tr style=\"text-align: right;\">\n",
       "      <th></th>\n",
       "      <th>age</th>\n",
       "      <th>job</th>\n",
       "      <th>marital</th>\n",
       "      <th>education</th>\n",
       "      <th>default</th>\n",
       "      <th>housing</th>\n",
       "      <th>loan</th>\n",
       "      <th>contact</th>\n",
       "      <th>month</th>\n",
       "      <th>day_of_week</th>\n",
       "      <th>campaign</th>\n",
       "      <th>pdays</th>\n",
       "      <th>previous</th>\n",
       "      <th>poutcome</th>\n",
       "      <th>y</th>\n",
       "    </tr>\n",
       "  </thead>\n",
       "  <tbody>\n",
       "    <tr>\n",
       "      <th>0</th>\n",
       "      <td>30</td>\n",
       "      <td>blue-collar</td>\n",
       "      <td>married</td>\n",
       "      <td>basic.9y</td>\n",
       "      <td>no</td>\n",
       "      <td>yes</td>\n",
       "      <td>no</td>\n",
       "      <td>cellular</td>\n",
       "      <td>may</td>\n",
       "      <td>fri</td>\n",
       "      <td>2</td>\n",
       "      <td>999</td>\n",
       "      <td>0</td>\n",
       "      <td>nonexistent</td>\n",
       "      <td>no</td>\n",
       "    </tr>\n",
       "    <tr>\n",
       "      <th>1</th>\n",
       "      <td>39</td>\n",
       "      <td>services</td>\n",
       "      <td>single</td>\n",
       "      <td>high.school</td>\n",
       "      <td>no</td>\n",
       "      <td>no</td>\n",
       "      <td>no</td>\n",
       "      <td>telephone</td>\n",
       "      <td>may</td>\n",
       "      <td>fri</td>\n",
       "      <td>4</td>\n",
       "      <td>999</td>\n",
       "      <td>0</td>\n",
       "      <td>nonexistent</td>\n",
       "      <td>no</td>\n",
       "    </tr>\n",
       "    <tr>\n",
       "      <th>2</th>\n",
       "      <td>25</td>\n",
       "      <td>services</td>\n",
       "      <td>married</td>\n",
       "      <td>high.school</td>\n",
       "      <td>no</td>\n",
       "      <td>yes</td>\n",
       "      <td>no</td>\n",
       "      <td>telephone</td>\n",
       "      <td>jun</td>\n",
       "      <td>wed</td>\n",
       "      <td>1</td>\n",
       "      <td>999</td>\n",
       "      <td>0</td>\n",
       "      <td>nonexistent</td>\n",
       "      <td>no</td>\n",
       "    </tr>\n",
       "    <tr>\n",
       "      <th>3</th>\n",
       "      <td>38</td>\n",
       "      <td>services</td>\n",
       "      <td>married</td>\n",
       "      <td>basic.9y</td>\n",
       "      <td>no</td>\n",
       "      <td>unknown</td>\n",
       "      <td>unknown</td>\n",
       "      <td>telephone</td>\n",
       "      <td>jun</td>\n",
       "      <td>fri</td>\n",
       "      <td>3</td>\n",
       "      <td>999</td>\n",
       "      <td>0</td>\n",
       "      <td>nonexistent</td>\n",
       "      <td>no</td>\n",
       "    </tr>\n",
       "    <tr>\n",
       "      <th>4</th>\n",
       "      <td>47</td>\n",
       "      <td>admin.</td>\n",
       "      <td>married</td>\n",
       "      <td>university.degree</td>\n",
       "      <td>no</td>\n",
       "      <td>yes</td>\n",
       "      <td>no</td>\n",
       "      <td>cellular</td>\n",
       "      <td>nov</td>\n",
       "      <td>mon</td>\n",
       "      <td>1</td>\n",
       "      <td>999</td>\n",
       "      <td>0</td>\n",
       "      <td>nonexistent</td>\n",
       "      <td>no</td>\n",
       "    </tr>\n",
       "  </tbody>\n",
       "</table>\n",
       "</div>"
      ],
      "text/plain": [
       "   age          job  marital          education default  housing     loan  \\\n",
       "0   30  blue-collar  married           basic.9y      no      yes       no   \n",
       "1   39     services   single        high.school      no       no       no   \n",
       "2   25     services  married        high.school      no      yes       no   \n",
       "3   38     services  married           basic.9y      no  unknown  unknown   \n",
       "4   47       admin.  married  university.degree      no      yes       no   \n",
       "\n",
       "     contact month day_of_week  campaign  pdays  previous     poutcome   y  \n",
       "0   cellular   may         fri         2    999         0  nonexistent  no  \n",
       "1  telephone   may         fri         4    999         0  nonexistent  no  \n",
       "2  telephone   jun         wed         1    999         0  nonexistent  no  \n",
       "3  telephone   jun         fri         3    999         0  nonexistent  no  \n",
       "4   cellular   nov         mon         1    999         0  nonexistent  no  "
      ]
     },
     "execution_count": 3,
     "metadata": {},
     "output_type": "execute_result"
    }
   ],
   "source": [
    "# read in the data, semi-colon separated\n",
    "raw_data = pd.read_csv('bank-additional.csv', sep=';')\n",
    "\n",
    "# Drop context columns that seem to be generated in the future\n",
    "raw_data = raw_data.drop(['emp.var.rate', 'cons.price.idx', 'cons.conf.idx', 'euribor3m', 'nr.employed'], axis=1)\n",
    "\n",
    "# Drop duration which also seem to be evaluated in the future\n",
    "raw_data = raw_data.drop(['duration'], axis=1)\n",
    "\n",
    "# print some basic stats\n",
    "raw_data.head()"
   ]
  },
  {
   "cell_type": "code",
   "execution_count": 4,
   "metadata": {
    "collapsed": false
   },
   "outputs": [
    {
     "data": {
      "text/html": [
       "<div>\n",
       "<table border=\"1\" class=\"dataframe\">\n",
       "  <thead>\n",
       "    <tr style=\"text-align: right;\">\n",
       "      <th></th>\n",
       "      <th>age</th>\n",
       "      <th>campaign</th>\n",
       "      <th>pdays</th>\n",
       "      <th>previous</th>\n",
       "    </tr>\n",
       "  </thead>\n",
       "  <tbody>\n",
       "    <tr>\n",
       "      <th>count</th>\n",
       "      <td>4119.000000</td>\n",
       "      <td>4119.000000</td>\n",
       "      <td>4119.000000</td>\n",
       "      <td>4119.000000</td>\n",
       "    </tr>\n",
       "    <tr>\n",
       "      <th>mean</th>\n",
       "      <td>40.113620</td>\n",
       "      <td>2.537266</td>\n",
       "      <td>960.422190</td>\n",
       "      <td>0.190337</td>\n",
       "    </tr>\n",
       "    <tr>\n",
       "      <th>std</th>\n",
       "      <td>10.313362</td>\n",
       "      <td>2.568159</td>\n",
       "      <td>191.922786</td>\n",
       "      <td>0.541788</td>\n",
       "    </tr>\n",
       "    <tr>\n",
       "      <th>min</th>\n",
       "      <td>18.000000</td>\n",
       "      <td>1.000000</td>\n",
       "      <td>0.000000</td>\n",
       "      <td>0.000000</td>\n",
       "    </tr>\n",
       "    <tr>\n",
       "      <th>25%</th>\n",
       "      <td>32.000000</td>\n",
       "      <td>1.000000</td>\n",
       "      <td>999.000000</td>\n",
       "      <td>0.000000</td>\n",
       "    </tr>\n",
       "    <tr>\n",
       "      <th>50%</th>\n",
       "      <td>38.000000</td>\n",
       "      <td>2.000000</td>\n",
       "      <td>999.000000</td>\n",
       "      <td>0.000000</td>\n",
       "    </tr>\n",
       "    <tr>\n",
       "      <th>75%</th>\n",
       "      <td>47.000000</td>\n",
       "      <td>3.000000</td>\n",
       "      <td>999.000000</td>\n",
       "      <td>0.000000</td>\n",
       "    </tr>\n",
       "    <tr>\n",
       "      <th>max</th>\n",
       "      <td>88.000000</td>\n",
       "      <td>35.000000</td>\n",
       "      <td>999.000000</td>\n",
       "      <td>6.000000</td>\n",
       "    </tr>\n",
       "  </tbody>\n",
       "</table>\n",
       "</div>"
      ],
      "text/plain": [
       "               age     campaign        pdays     previous\n",
       "count  4119.000000  4119.000000  4119.000000  4119.000000\n",
       "mean     40.113620     2.537266   960.422190     0.190337\n",
       "std      10.313362     2.568159   191.922786     0.541788\n",
       "min      18.000000     1.000000     0.000000     0.000000\n",
       "25%      32.000000     1.000000   999.000000     0.000000\n",
       "50%      38.000000     2.000000   999.000000     0.000000\n",
       "75%      47.000000     3.000000   999.000000     0.000000\n",
       "max      88.000000    35.000000   999.000000     6.000000"
      ]
     },
     "execution_count": 4,
     "metadata": {},
     "output_type": "execute_result"
    }
   ],
   "source": [
    "raw_data.describe()"
   ]
  },
  {
   "cell_type": "code",
   "execution_count": 5,
   "metadata": {
    "collapsed": false
   },
   "outputs": [
    {
     "data": {
      "text/html": [
       "<div>\n",
       "<table border=\"1\" class=\"dataframe\">\n",
       "  <thead>\n",
       "    <tr style=\"text-align: right;\">\n",
       "      <th></th>\n",
       "      <th>age</th>\n",
       "      <th>job</th>\n",
       "      <th>marital</th>\n",
       "      <th>education</th>\n",
       "      <th>default</th>\n",
       "      <th>housing</th>\n",
       "      <th>loan</th>\n",
       "      <th>contact</th>\n",
       "      <th>month</th>\n",
       "      <th>day_of_week</th>\n",
       "      <th>campaign</th>\n",
       "      <th>pdays</th>\n",
       "      <th>previous</th>\n",
       "      <th>poutcome</th>\n",
       "      <th>y</th>\n",
       "    </tr>\n",
       "  </thead>\n",
       "  <tbody>\n",
       "    <tr>\n",
       "      <th>0</th>\n",
       "      <td>int64</td>\n",
       "      <td>object</td>\n",
       "      <td>object</td>\n",
       "      <td>object</td>\n",
       "      <td>object</td>\n",
       "      <td>object</td>\n",
       "      <td>object</td>\n",
       "      <td>object</td>\n",
       "      <td>object</td>\n",
       "      <td>object</td>\n",
       "      <td>int64</td>\n",
       "      <td>int64</td>\n",
       "      <td>int64</td>\n",
       "      <td>object</td>\n",
       "      <td>object</td>\n",
       "    </tr>\n",
       "  </tbody>\n",
       "</table>\n",
       "</div>"
      ],
      "text/plain": [
       "     age     job marital education default housing    loan contact   month  \\\n",
       "0  int64  object  object    object  object  object  object  object  object   \n",
       "\n",
       "  day_of_week campaign  pdays previous poutcome       y  \n",
       "0      object    int64  int64    int64   object  object  "
      ]
     },
     "execution_count": 5,
     "metadata": {},
     "output_type": "execute_result"
    }
   ],
   "source": [
    "pd.DataFrame(raw_data.dtypes).transpose()"
   ]
  },
  {
   "cell_type": "markdown",
   "metadata": {},
   "source": [
    "From this we can see that non-numeric values are identified as 'object'."
   ]
  },
  {
   "cell_type": "markdown",
   "metadata": {},
   "source": [
    "Initial feature selection\n",
    "-------------------------"
   ]
  },
  {
   "cell_type": "code",
   "execution_count": 6,
   "metadata": {
    "collapsed": false
   },
   "outputs": [
    {
     "data": {
      "text/plain": [
       "dtype('int64')"
      ]
     },
     "execution_count": 6,
     "metadata": {},
     "output_type": "execute_result"
    }
   ],
   "source": [
    "data = raw_data.copy()\n",
    "\n",
    "# Convert the 'y' (output) column, containing 'yes' or 'no', into a numeric value.\n",
    "data['y'] = data['y'].map(lambda x: 1 if x == 'yes' else 0)\n",
    "\n",
    "# Display data types\n",
    "data['y'].dtypes"
   ]
  },
  {
   "cell_type": "code",
   "execution_count": 7,
   "metadata": {
    "collapsed": false
   },
   "outputs": [
    {
     "data": {
      "text/html": [
       "<div>\n",
       "<table border=\"1\" class=\"dataframe\">\n",
       "  <thead>\n",
       "    <tr style=\"text-align: right;\">\n",
       "      <th></th>\n",
       "      <th>count</th>\n",
       "      <th>mean</th>\n",
       "      <th>std</th>\n",
       "      <th>min</th>\n",
       "      <th>25%</th>\n",
       "      <th>50%</th>\n",
       "      <th>75%</th>\n",
       "      <th>max</th>\n",
       "    </tr>\n",
       "  </thead>\n",
       "  <tbody>\n",
       "    <tr>\n",
       "      <th>y</th>\n",
       "      <td>4119.0</td>\n",
       "      <td>0.109493</td>\n",
       "      <td>0.312294</td>\n",
       "      <td>0.0</td>\n",
       "      <td>0.0</td>\n",
       "      <td>0.0</td>\n",
       "      <td>0.0</td>\n",
       "      <td>1.0</td>\n",
       "    </tr>\n",
       "  </tbody>\n",
       "</table>\n",
       "</div>"
      ],
      "text/plain": [
       "    count      mean       std  min  25%  50%  75%  max\n",
       "y  4119.0  0.109493  0.312294  0.0  0.0  0.0  0.0  1.0"
      ]
     },
     "execution_count": 7,
     "metadata": {},
     "output_type": "execute_result"
    }
   ],
   "source": [
    "pd.DataFrame(data['y'].describe()).transpose()"
   ]
  },
  {
   "cell_type": "markdown",
   "metadata": {},
   "source": [
    "That means the rate is about 11% (always predicting false would already give us a good accuracy)."
   ]
  },
  {
   "cell_type": "markdown",
   "metadata": {},
   "source": [
    "Show correlations with 'y' column\n",
    "---------------------------------\n",
    "(only includes numeric columns)"
   ]
  },
  {
   "cell_type": "code",
   "execution_count": 8,
   "metadata": {
    "collapsed": false
   },
   "outputs": [
    {
     "data": {
      "text/html": [
       "<div>\n",
       "<table border=\"1\" class=\"dataframe\">\n",
       "  <thead>\n",
       "    <tr style=\"text-align: right;\">\n",
       "      <th></th>\n",
       "      <th>previous</th>\n",
       "      <th>age</th>\n",
       "      <th>campaign</th>\n",
       "      <th>pdays</th>\n",
       "    </tr>\n",
       "  </thead>\n",
       "  <tbody>\n",
       "    <tr>\n",
       "      <th>y</th>\n",
       "      <td>0.255697</td>\n",
       "      <td>0.060374</td>\n",
       "      <td>-0.076091</td>\n",
       "      <td>-0.332012</td>\n",
       "    </tr>\n",
       "  </tbody>\n",
       "</table>\n",
       "</div>"
      ],
      "text/plain": [
       "   previous       age  campaign     pdays\n",
       "y  0.255697  0.060374 -0.076091 -0.332012"
      ]
     },
     "execution_count": 8,
     "metadata": {},
     "output_type": "execute_result"
    }
   ],
   "source": [
    "pd.DataFrame(data.corr()['y'].drop('y').sort_values(ascending=False)).transpose()"
   ]
  },
  {
   "cell_type": "markdown",
   "metadata": {},
   "source": [
    "Select training / test data for the model\n",
    "-----------------------------------------\n",
    "We need to select only numeric columns for our model (as it may not be able to handle other types).\n",
    "\n",
    "For simplicity, we are using train_test_split to split our data.\n",
    "That means we are not training on all of our data and may end up having a lucky split.\n",
    "Ideally we would use K-Fold test split (with multiple runs)."
   ]
  },
  {
   "cell_type": "code",
   "execution_count": 9,
   "metadata": {
    "collapsed": false
   },
   "outputs": [
    {
     "name": "stdout",
     "output_type": "stream",
     "text": [
      "Numeric columns: ['age' 'campaign' 'pdays' 'previous' 'y']\n",
      "X_train shape: (3089, 4)\n",
      "Y_train shape: (3089,)\n",
      "X_test shape: (1030, 4)\n",
      "Y_test shape: (1030,)\n"
     ]
    }
   ],
   "source": [
    "data_numeric = data.select_dtypes(include=[np.number])\n",
    "print(\"Numeric columns:\", data_numeric.columns.values)\n",
    "X = data_numeric.drop('y', axis=1)\n",
    "Y = data_numeric['y']\n",
    "\n",
    "X_train, X_test, Y_train, Y_test = train_test_split(X, Y, test_size=0.25)\n",
    "\n",
    "print(\"X_train shape:\", X_train.shape)\n",
    "print(\"Y_train shape:\", Y_train.shape)\n",
    "\n",
    "print(\"X_test shape:\", X_test.shape)\n",
    "print(\"Y_test shape:\", Y_test.shape)"
   ]
  },
  {
   "cell_type": "markdown",
   "metadata": {},
   "source": [
    "### Computer says 'no' model\n",
    "(the model to beat)"
   ]
  },
  {
   "cell_type": "code",
   "execution_count": 10,
   "metadata": {
    "collapsed": false
   },
   "outputs": [
    {
     "name": "stdout",
     "output_type": "stream",
     "text": [
      "Predict 'no' (train), accuracy: 0.890579475558 , mse: 0.109420524442\n",
      "Predict 'no' (test), accuracy: 0.890291262136 , mse: 0.109708737864\n"
     ]
    }
   ],
   "source": [
    "pred_train = [0 for row in Y_train]\n",
    "pred_test = [0 for row in Y_test]\n",
    "\n",
    "print(\"Predict 'no' (train), accuracy:\", accuracy_score(Y_train, pred_train), \", mse:\", mean_squared_error(Y_train, pred_train))\n",
    "print(\"Predict 'no' (test), accuracy:\", accuracy_score(Y_test, pred_test), \", mse:\", mean_squared_error(Y_test, pred_test))\n"
   ]
  },
  {
   "cell_type": "markdown",
   "metadata": {},
   "source": [
    "LogisticRegression\n",
    "------------------\n",
    "LogisticRegression is a simple classifier."
   ]
  },
  {
   "cell_type": "code",
   "execution_count": 11,
   "metadata": {
    "collapsed": false
   },
   "outputs": [
    {
     "name": "stdout",
     "output_type": "stream",
     "text": [
      "Train, accuracy: 0.900291356426 , mse: 0.099708643574\n",
      "Test, accuracy: 0.900970873786 , mse: 0.0990291262136\n"
     ]
    }
   ],
   "source": [
    "model = LogisticRegression()\n",
    "model.fit(X_train, Y_train)\n",
    "\n",
    "pred_train = model.predict(X_train)\n",
    "pred_test = model.predict(X_test)\n",
    "\n",
    "print(\"Train, accuracy:\", accuracy_score(Y_train, pred_train), \", mse:\", mean_squared_error(Y_train, pred_train))\n",
    "print(\"Test, accuracy:\", accuracy_score(Y_test, pred_test), \", mse:\", mean_squared_error(Y_test, pred_test))"
   ]
  },
  {
   "cell_type": "markdown",
   "metadata": {},
   "source": [
    "Only a tiny bit better than always predicting 'no'."
   ]
  },
  {
   "cell_type": "code",
   "execution_count": 12,
   "metadata": {
    "collapsed": false
   },
   "outputs": [
    {
     "name": "stdout",
     "output_type": "stream",
     "text": [
      "intercept: [-0.02935155]\n"
     ]
    }
   ],
   "source": [
    "print(\"intercept:\", model.intercept_)"
   ]
  },
  {
   "cell_type": "code",
   "execution_count": 13,
   "metadata": {
    "collapsed": false
   },
   "outputs": [
    {
     "data": {
      "text/html": [
       "<div>\n",
       "<table border=\"1\" class=\"dataframe\">\n",
       "  <thead>\n",
       "    <tr style=\"text-align: right;\">\n",
       "      <th></th>\n",
       "      <th>C</th>\n",
       "      <th>class_weight</th>\n",
       "      <th>dual</th>\n",
       "      <th>fit_intercept</th>\n",
       "      <th>intercept_scaling</th>\n",
       "      <th>max_iter</th>\n",
       "      <th>multi_class</th>\n",
       "      <th>n_jobs</th>\n",
       "      <th>penalty</th>\n",
       "      <th>random_state</th>\n",
       "      <th>solver</th>\n",
       "      <th>tol</th>\n",
       "      <th>verbose</th>\n",
       "      <th>warm_start</th>\n",
       "    </tr>\n",
       "  </thead>\n",
       "  <tbody>\n",
       "    <tr>\n",
       "      <th>0</th>\n",
       "      <td>1</td>\n",
       "      <td>None</td>\n",
       "      <td>False</td>\n",
       "      <td>True</td>\n",
       "      <td>1</td>\n",
       "      <td>100</td>\n",
       "      <td>ovr</td>\n",
       "      <td>1</td>\n",
       "      <td>l2</td>\n",
       "      <td>None</td>\n",
       "      <td>liblinear</td>\n",
       "      <td>0.0001</td>\n",
       "      <td>0</td>\n",
       "      <td>False</td>\n",
       "    </tr>\n",
       "  </tbody>\n",
       "</table>\n",
       "</div>"
      ],
      "text/plain": [
       "   C class_weight   dual fit_intercept intercept_scaling max_iter multi_class  \\\n",
       "0  1         None  False          True                 1      100         ovr   \n",
       "\n",
       "  n_jobs penalty random_state     solver     tol verbose warm_start  \n",
       "0      1      l2         None  liblinear  0.0001       0      False  "
      ]
     },
     "execution_count": 13,
     "metadata": {},
     "output_type": "execute_result"
    }
   ],
   "source": [
    "pd.DataFrame(pd.Series(model.get_params(deep=True))).transpose()"
   ]
  },
  {
   "cell_type": "markdown",
   "metadata": {},
   "source": [
    "### Learned coefficients"
   ]
  },
  {
   "cell_type": "code",
   "execution_count": 14,
   "metadata": {
    "collapsed": false
   },
   "outputs": [
    {
     "data": {
      "text/html": [
       "<div>\n",
       "<table border=\"1\" class=\"dataframe\">\n",
       "  <thead>\n",
       "    <tr style=\"text-align: right;\">\n",
       "      <th></th>\n",
       "      <th>campaign</th>\n",
       "      <th>pdays</th>\n",
       "      <th>age</th>\n",
       "      <th>previous</th>\n",
       "    </tr>\n",
       "  </thead>\n",
       "  <tbody>\n",
       "    <tr>\n",
       "      <th>0</th>\n",
       "      <td>-0.14171</td>\n",
       "      <td>-0.002633</td>\n",
       "      <td>0.015357</td>\n",
       "      <td>0.171178</td>\n",
       "    </tr>\n",
       "  </tbody>\n",
       "</table>\n",
       "</div>"
      ],
      "text/plain": [
       "   campaign     pdays       age  previous\n",
       "0  -0.14171 -0.002633  0.015357  0.171178"
      ]
     },
     "execution_count": 14,
     "metadata": {},
     "output_type": "execute_result"
    }
   ],
   "source": [
    "coeffs = pd.Series(model.coef_[0], index=X_train.columns).sort_values()\n",
    "pd.DataFrame(coeffs).transpose()"
   ]
  },
  {
   "cell_type": "code",
   "execution_count": 15,
   "metadata": {
    "collapsed": false
   },
   "outputs": [
    {
     "data": {
      "text/plain": [
       "<matplotlib.axes._subplots.AxesSubplot at 0x7fbb37a5cb70>"
      ]
     },
     "execution_count": 15,
     "metadata": {},
     "output_type": "execute_result"
    },
    {
     "data": {
      "image/png": "[encoded data removed]",
      "text/plain": [
       "<matplotlib.figure.Figure at 0x7fbb37768f28>"
      ]
     },
     "metadata": {},
     "output_type": "display_data"
    }
   ],
   "source": [
    "coeffs.plot(kind=\"bar\", figsize=(12, 6))"
   ]
  },
  {
   "cell_type": "markdown",
   "metadata": {},
   "source": [
    "Possible interpretation: better not contact the client too frequently during a campaign but keep in touch in the long run."
   ]
  },
  {
   "cell_type": "markdown",
   "metadata": {},
   "source": [
    "## How does a Random Forest Classifier do"
   ]
  },
  {
   "cell_type": "code",
   "execution_count": 16,
   "metadata": {
    "collapsed": false
   },
   "outputs": [
    {
     "name": "stdout",
     "output_type": "stream",
     "text": [
      "Train, accuracy: 0.922952411784 , mse: 0.0770475882163\n",
      "Test, accuracy: 0.888349514563 , mse: 0.111650485437\n"
     ]
    }
   ],
   "source": [
    "model = RandomForestClassifier()\n",
    "model.fit(X_train, Y_train)\n",
    "\n",
    "pred_train = model.predict(X_train)\n",
    "pred_test = model.predict(X_test)\n",
    "\n",
    "print(\"Train, accuracy:\", accuracy_score(Y_train, pred_train), \", mse:\", mean_squared_error(Y_train, pred_train))\n",
    "print(\"Test, accuracy:\", accuracy_score(Y_test, pred_test), \", mse:\", mean_squared_error(Y_test, pred_test))"
   ]
  },
  {
   "cell_type": "markdown",
   "metadata": {},
   "source": [
    "It seems to overfit on the training set but does not impress on the test set."
   ]
  },
  {
   "cell_type": "markdown",
   "metadata": {},
   "source": [
    "Add dummy columns for categorical columns\n",
    "=================\n",
    "(For simplicity, code is repeated - don't do that at home)"
   ]
  },
  {
   "cell_type": "code",
   "execution_count": 17,
   "metadata": {
    "collapsed": false
   },
   "outputs": [
    {
     "data": {
      "text/html": [
       "<div>\n",
       "<table border=\"1\" class=\"dataframe\">\n",
       "  <thead>\n",
       "    <tr style=\"text-align: right;\">\n",
       "      <th></th>\n",
       "      <th>age</th>\n",
       "      <th>campaign</th>\n",
       "      <th>pdays</th>\n",
       "      <th>previous</th>\n",
       "      <th>y</th>\n",
       "      <th>job_admin.</th>\n",
       "      <th>job_blue-collar</th>\n",
       "      <th>job_entrepreneur</th>\n",
       "      <th>job_housemaid</th>\n",
       "      <th>job_management</th>\n",
       "      <th>...</th>\n",
       "      <th>month_oct</th>\n",
       "      <th>month_sep</th>\n",
       "      <th>day_of_week_fri</th>\n",
       "      <th>day_of_week_mon</th>\n",
       "      <th>day_of_week_thu</th>\n",
       "      <th>day_of_week_tue</th>\n",
       "      <th>day_of_week_wed</th>\n",
       "      <th>poutcome_failure</th>\n",
       "      <th>poutcome_nonexistent</th>\n",
       "      <th>poutcome_success</th>\n",
       "    </tr>\n",
       "  </thead>\n",
       "  <tbody>\n",
       "    <tr>\n",
       "      <th>0</th>\n",
       "      <td>int64</td>\n",
       "      <td>int64</td>\n",
       "      <td>int64</td>\n",
       "      <td>int64</td>\n",
       "      <td>int64</td>\n",
       "      <td>uint8</td>\n",
       "      <td>uint8</td>\n",
       "      <td>uint8</td>\n",
       "      <td>uint8</td>\n",
       "      <td>uint8</td>\n",
       "      <td>...</td>\n",
       "      <td>uint8</td>\n",
       "      <td>uint8</td>\n",
       "      <td>uint8</td>\n",
       "      <td>uint8</td>\n",
       "      <td>uint8</td>\n",
       "      <td>uint8</td>\n",
       "      <td>uint8</td>\n",
       "      <td>uint8</td>\n",
       "      <td>uint8</td>\n",
       "      <td>uint8</td>\n",
       "    </tr>\n",
       "  </tbody>\n",
       "</table>\n",
       "<p>1 rows × 58 columns</p>\n",
       "</div>"
      ],
      "text/plain": [
       "     age campaign  pdays previous      y job_admin. job_blue-collar  \\\n",
       "0  int64    int64  int64    int64  int64      uint8           uint8   \n",
       "\n",
       "  job_entrepreneur job_housemaid job_management       ...        month_oct  \\\n",
       "0            uint8         uint8          uint8       ...            uint8   \n",
       "\n",
       "  month_sep day_of_week_fri day_of_week_mon day_of_week_thu day_of_week_tue  \\\n",
       "0     uint8           uint8           uint8           uint8           uint8   \n",
       "\n",
       "  day_of_week_wed poutcome_failure poutcome_nonexistent poutcome_success  \n",
       "0           uint8            uint8                uint8            uint8  \n",
       "\n",
       "[1 rows x 58 columns]"
      ]
     },
     "execution_count": 17,
     "metadata": {},
     "output_type": "execute_result"
    }
   ],
   "source": [
    "# For the purpose of this example we treat anything of the type 'object' as categorical\n",
    "cat_columns = data.select_dtypes(include=['object']).columns.values\n",
    "for cat_column in cat_columns:\n",
    "  data = data.drop(cat_column, axis=1).join(pd.get_dummies(data[cat_column], prefix=cat_column))\n",
    "\n",
    "# Display types\n",
    "pd.DataFrame(data.dtypes).transpose()"
   ]
  },
  {
   "cell_type": "markdown",
   "metadata": {},
   "source": [
    "## Print the correlations again"
   ]
  },
  {
   "cell_type": "code",
   "execution_count": 18,
   "metadata": {
    "collapsed": false
   },
   "outputs": [
    {
     "data": {
      "text/html": [
       "<div>\n",
       "<table border=\"1\" class=\"dataframe\">\n",
       "  <thead>\n",
       "    <tr style=\"text-align: right;\">\n",
       "      <th></th>\n",
       "      <th>poutcome_success</th>\n",
       "      <th>previous</th>\n",
       "      <th>month_mar</th>\n",
       "      <th>contact_cellular</th>\n",
       "      <th>month_sep</th>\n",
       "      <th>month_oct</th>\n",
       "      <th>month_dec</th>\n",
       "      <th>job_retired</th>\n",
       "      <th>default_no</th>\n",
       "      <th>age</th>\n",
       "      <th>...</th>\n",
       "      <th>marital_married</th>\n",
       "      <th>month_jul</th>\n",
       "      <th>education_basic.9y</th>\n",
       "      <th>job_blue-collar</th>\n",
       "      <th>campaign</th>\n",
       "      <th>default_unknown</th>\n",
       "      <th>month_may</th>\n",
       "      <th>contact_telephone</th>\n",
       "      <th>poutcome_nonexistent</th>\n",
       "      <th>pdays</th>\n",
       "    </tr>\n",
       "  </thead>\n",
       "  <tbody>\n",
       "    <tr>\n",
       "      <th>y</th>\n",
       "      <td>0.325804</td>\n",
       "      <td>0.255697</td>\n",
       "      <td>0.164775</td>\n",
       "      <td>0.137401</td>\n",
       "      <td>0.119395</td>\n",
       "      <td>0.105684</td>\n",
       "      <td>0.102309</td>\n",
       "      <td>0.078373</td>\n",
       "      <td>0.076567</td>\n",
       "      <td>0.060374</td>\n",
       "      <td>...</td>\n",
       "      <td>-0.036197</td>\n",
       "      <td>-0.038779</td>\n",
       "      <td>-0.044561</td>\n",
       "      <td>-0.067781</td>\n",
       "      <td>-0.076091</td>\n",
       "      <td>-0.076388</td>\n",
       "      <td>-0.100321</td>\n",
       "      <td>-0.137401</td>\n",
       "      <td>-0.207179</td>\n",
       "      <td>-0.332012</td>\n",
       "    </tr>\n",
       "  </tbody>\n",
       "</table>\n",
       "<p>1 rows × 57 columns</p>\n",
       "</div>"
      ],
      "text/plain": [
       "   poutcome_success  previous  month_mar  contact_cellular  month_sep  \\\n",
       "y          0.325804  0.255697   0.164775          0.137401   0.119395   \n",
       "\n",
       "   month_oct  month_dec  job_retired  default_no       age    ...     \\\n",
       "y   0.105684   0.102309     0.078373    0.076567  0.060374    ...      \n",
       "\n",
       "   marital_married  month_jul  education_basic.9y  job_blue-collar  campaign  \\\n",
       "y        -0.036197  -0.038779           -0.044561        -0.067781 -0.076091   \n",
       "\n",
       "   default_unknown  month_may  contact_telephone  poutcome_nonexistent  \\\n",
       "y        -0.076388  -0.100321          -0.137401             -0.207179   \n",
       "\n",
       "      pdays  \n",
       "y -0.332012  \n",
       "\n",
       "[1 rows x 57 columns]"
      ]
     },
     "execution_count": 18,
     "metadata": {},
     "output_type": "execute_result"
    }
   ],
   "source": [
    "pd.DataFrame(data.corr()['y'].drop('y').sort_values(ascending=False)).transpose()"
   ]
  },
  {
   "cell_type": "markdown",
   "metadata": {},
   "source": [
    "## Split data into training / test data"
   ]
  },
  {
   "cell_type": "code",
   "execution_count": 19,
   "metadata": {
    "collapsed": false
   },
   "outputs": [
    {
     "name": "stdout",
     "output_type": "stream",
     "text": [
      "Numeric columns: ['age' 'campaign' 'pdays' 'previous' 'y' 'job_admin.' 'job_blue-collar'\n",
      " 'job_entrepreneur' 'job_housemaid' 'job_management' 'job_retired'\n",
      " 'job_self-employed' 'job_services' 'job_student' 'job_technician'\n",
      " 'job_unemployed' 'job_unknown' 'marital_divorced' 'marital_married'\n",
      " 'marital_single' 'marital_unknown' 'education_basic.4y'\n",
      " 'education_basic.6y' 'education_basic.9y' 'education_high.school'\n",
      " 'education_illiterate' 'education_professional.course'\n",
      " 'education_university.degree' 'education_unknown' 'default_no'\n",
      " 'default_unknown' 'default_yes' 'housing_no' 'housing_unknown'\n",
      " 'housing_yes' 'loan_no' 'loan_unknown' 'loan_yes' 'contact_cellular'\n",
      " 'contact_telephone' 'month_apr' 'month_aug' 'month_dec' 'month_jul'\n",
      " 'month_jun' 'month_mar' 'month_may' 'month_nov' 'month_oct' 'month_sep'\n",
      " 'day_of_week_fri' 'day_of_week_mon' 'day_of_week_thu' 'day_of_week_tue'\n",
      " 'day_of_week_wed' 'poutcome_failure' 'poutcome_nonexistent'\n",
      " 'poutcome_success']\n",
      "X_train shape: (3089, 57)\n",
      "Y_train shape: (3089,)\n",
      "X_test shape: (1030, 57)\n",
      "Y_test shape: (1030,)\n"
     ]
    }
   ],
   "source": [
    "data_numeric = data.select_dtypes(include=[np.number])\n",
    "print(\"Numeric columns:\", data_numeric.columns.values)\n",
    "X = data_numeric.drop('y', axis=1)\n",
    "Y = data_numeric['y']\n",
    "\n",
    "X_train, X_test, Y_train, Y_test = train_test_split(X, Y, test_size=0.25)\n",
    "\n",
    "print(\"X_train shape:\", X_train.shape)\n",
    "print(\"Y_train shape:\", Y_train.shape)\n",
    "\n",
    "print(\"X_test shape:\", X_test.shape)\n",
    "print(\"Y_test shape:\", Y_test.shape)"
   ]
  },
  {
   "cell_type": "markdown",
   "metadata": {},
   "source": [
    "## Logist regression"
   ]
  },
  {
   "cell_type": "code",
   "execution_count": 20,
   "metadata": {
    "collapsed": false
   },
   "outputs": [
    {
     "name": "stdout",
     "output_type": "stream",
     "text": [
      "Train, accuracy: 0.900615085788 , mse: 0.0993849142117\n",
      "Test, accuracy: 0.899029126214 , mse: 0.100970873786\n"
     ]
    }
   ],
   "source": [
    "model = LogisticRegression()\n",
    "model.fit(X_train, Y_train)\n",
    "\n",
    "pred_train = model.predict(X_train)\n",
    "pred_test = model.predict(X_test)\n",
    "\n",
    "print(\"Train, accuracy:\", accuracy_score(Y_train, pred_train), \", mse:\", mean_squared_error(Y_train, pred_train))\n",
    "print(\"Test, accuracy:\", accuracy_score(Y_test, pred_test), \", mse:\", mean_squared_error(Y_test, pred_test))"
   ]
  },
  {
   "cell_type": "code",
   "execution_count": 21,
   "metadata": {
    "collapsed": false
   },
   "outputs": [
    {
     "data": {
      "text/html": [
       "<div>\n",
       "<table border=\"1\" class=\"dataframe\">\n",
       "  <thead>\n",
       "    <tr style=\"text-align: right;\">\n",
       "      <th></th>\n",
       "      <th>C</th>\n",
       "      <th>class_weight</th>\n",
       "      <th>dual</th>\n",
       "      <th>fit_intercept</th>\n",
       "      <th>intercept_scaling</th>\n",
       "      <th>max_iter</th>\n",
       "      <th>multi_class</th>\n",
       "      <th>n_jobs</th>\n",
       "      <th>penalty</th>\n",
       "      <th>random_state</th>\n",
       "      <th>solver</th>\n",
       "      <th>tol</th>\n",
       "      <th>verbose</th>\n",
       "      <th>warm_start</th>\n",
       "    </tr>\n",
       "  </thead>\n",
       "  <tbody>\n",
       "    <tr>\n",
       "      <th>0</th>\n",
       "      <td>1</td>\n",
       "      <td>None</td>\n",
       "      <td>False</td>\n",
       "      <td>True</td>\n",
       "      <td>1</td>\n",
       "      <td>100</td>\n",
       "      <td>ovr</td>\n",
       "      <td>1</td>\n",
       "      <td>l2</td>\n",
       "      <td>None</td>\n",
       "      <td>liblinear</td>\n",
       "      <td>0.0001</td>\n",
       "      <td>0</td>\n",
       "      <td>False</td>\n",
       "    </tr>\n",
       "  </tbody>\n",
       "</table>\n",
       "</div>"
      ],
      "text/plain": [
       "   C class_weight   dual fit_intercept intercept_scaling max_iter multi_class  \\\n",
       "0  1         None  False          True                 1      100         ovr   \n",
       "\n",
       "  n_jobs penalty random_state     solver     tol verbose warm_start  \n",
       "0      1      l2         None  liblinear  0.0001       0      False  "
      ]
     },
     "execution_count": 21,
     "metadata": {},
     "output_type": "execute_result"
    }
   ],
   "source": [
    "# Display model params\n",
    "pd.DataFrame(pd.Series(model.get_params(deep=True))).transpose()"
   ]
  },
  {
   "cell_type": "code",
   "execution_count": 22,
   "metadata": {
    "collapsed": false
   },
   "outputs": [
    {
     "name": "stdout",
     "output_type": "stream",
     "text": [
      "intercept: [-0.52245323]\n"
     ]
    }
   ],
   "source": [
    "# Display the intercept\n",
    "print(\"intercept:\", model.intercept_)"
   ]
  },
  {
   "cell_type": "markdown",
   "metadata": {},
   "source": [
    "### What coefficients did the logistic regression learn?"
   ]
  },
  {
   "cell_type": "code",
   "execution_count": 23,
   "metadata": {
    "collapsed": false
   },
   "outputs": [
    {
     "data": {
      "text/html": [
       "<div>\n",
       "<table border=\"1\" class=\"dataframe\">\n",
       "  <thead>\n",
       "    <tr style=\"text-align: right;\">\n",
       "      <th></th>\n",
       "      <th>month_nov</th>\n",
       "      <th>month_aug</th>\n",
       "      <th>poutcome_failure</th>\n",
       "      <th>month_jul</th>\n",
       "      <th>contact_telephone</th>\n",
       "      <th>month_may</th>\n",
       "      <th>job_self-employed</th>\n",
       "      <th>default_unknown</th>\n",
       "      <th>month_apr</th>\n",
       "      <th>job_blue-collar</th>\n",
       "      <th>...</th>\n",
       "      <th>job_retired</th>\n",
       "      <th>contact_cellular</th>\n",
       "      <th>job_unemployed</th>\n",
       "      <th>education_unknown</th>\n",
       "      <th>month_jun</th>\n",
       "      <th>poutcome_success</th>\n",
       "      <th>previous</th>\n",
       "      <th>month_oct</th>\n",
       "      <th>month_dec</th>\n",
       "      <th>month_mar</th>\n",
       "    </tr>\n",
       "  </thead>\n",
       "  <tbody>\n",
       "    <tr>\n",
       "      <th>0</th>\n",
       "      <td>-1.063094</td>\n",
       "      <td>-0.993633</td>\n",
       "      <td>-0.882291</td>\n",
       "      <td>-0.854927</td>\n",
       "      <td>-0.842335</td>\n",
       "      <td>-0.610063</td>\n",
       "      <td>-0.603904</td>\n",
       "      <td>-0.353877</td>\n",
       "      <td>-0.317159</td>\n",
       "      <td>-0.312116</td>\n",
       "      <td>...</td>\n",
       "      <td>0.208015</td>\n",
       "      <td>0.319882</td>\n",
       "      <td>0.343162</td>\n",
       "      <td>0.34657</td>\n",
       "      <td>0.389998</td>\n",
       "      <td>0.506879</td>\n",
       "      <td>0.584489</td>\n",
       "      <td>0.634422</td>\n",
       "      <td>1.012112</td>\n",
       "      <td>1.191976</td>\n",
       "    </tr>\n",
       "  </tbody>\n",
       "</table>\n",
       "<p>1 rows × 57 columns</p>\n",
       "</div>"
      ],
      "text/plain": [
       "   month_nov  month_aug  poutcome_failure  month_jul  contact_telephone  \\\n",
       "0  -1.063094  -0.993633         -0.882291  -0.854927          -0.842335   \n",
       "\n",
       "   month_may  job_self-employed  default_unknown  month_apr  job_blue-collar  \\\n",
       "0  -0.610063          -0.603904        -0.353877  -0.317159        -0.312116   \n",
       "\n",
       "     ...      job_retired  contact_cellular  job_unemployed  \\\n",
       "0    ...         0.208015          0.319882        0.343162   \n",
       "\n",
       "   education_unknown  month_jun  poutcome_success  previous  month_oct  \\\n",
       "0            0.34657   0.389998          0.506879  0.584489   0.634422   \n",
       "\n",
       "   month_dec  month_mar  \n",
       "0   1.012112   1.191976  \n",
       "\n",
       "[1 rows x 57 columns]"
      ]
     },
     "execution_count": 23,
     "metadata": {},
     "output_type": "execute_result"
    }
   ],
   "source": [
    "coeffs = pd.Series(model.coef_[0], index=X_train.columns).sort_values()\n",
    "pd.DataFrame(coeffs).transpose()"
   ]
  },
  {
   "cell_type": "code",
   "execution_count": 24,
   "metadata": {
    "collapsed": false
   },
   "outputs": [
    {
     "data": {
      "text/plain": [
       "<matplotlib.axes._subplots.AxesSubplot at 0x7fbb37773048>"
      ]
     },
     "execution_count": 24,
     "metadata": {},
     "output_type": "execute_result"
    },
    {
     "data": {
      "image/png": "[encoded data removed]",
      "text/plain": [
       "<matplotlib.figure.Figure at 0x7fbb3799dc88>"
      ]
     },
     "metadata": {},
     "output_type": "display_data"
    }
   ],
   "source": [
    "coeffs.plot(kind=\"bar\", figsize=(12, 6))"
   ]
  },
  {
   "cell_type": "markdown",
   "metadata": {},
   "source": [
    "Looks like some months are worse than others. Do we have an even distribution?"
   ]
  },
  {
   "cell_type": "code",
   "execution_count": 25,
   "metadata": {
    "collapsed": false
   },
   "outputs": [
    {
     "data": {
      "text/plain": [
       "<matplotlib.axes._subplots.AxesSubplot at 0x7fbb37813320>"
      ]
     },
     "execution_count": 25,
     "metadata": {},
     "output_type": "execute_result"
    },
    {
     "data": {
      "image/png": "[encoded data removed]",
      "text/plain": [
       "<matplotlib.figure.Figure at 0x7fbb3781bf98>"
      ]
     },
     "metadata": {},
     "output_type": "display_data"
    }
   ],
   "source": [
    "# January and Feburary do not seem to be in the dataset, include the months that are\n",
    "data[[\n",
    "  \"month_mar\", \"month_apr\", \"month_may\", \"month_jun\" , \"month_jul\", \"month_sep\", \"month_oct\", \"month_nov\", \"month_dec\"\n",
    "]].mean().plot()"
   ]
  },
  {
   "cell_type": "markdown",
   "metadata": {},
   "source": [
    "Probably not, using the month may not be the best predictor."
   ]
  },
  {
   "cell_type": "markdown",
   "metadata": {},
   "source": [
    "## Random Forest"
   ]
  },
  {
   "cell_type": "code",
   "execution_count": 26,
   "metadata": {
    "collapsed": false
   },
   "outputs": [
    {
     "name": "stdout",
     "output_type": "stream",
     "text": [
      "Train, accuracy: 0.98413726125 , mse: 0.0158627387504\n",
      "Test, accuracy: 0.899029126214 , mse: 0.100970873786\n"
     ]
    }
   ],
   "source": [
    "model = RandomForestClassifier()\n",
    "model.fit(X_train, Y_train)\n",
    "\n",
    "pred_train = model.predict(X_train)\n",
    "pred_test = model.predict(X_test)\n",
    "\n",
    "print(\"Train, accuracy:\", accuracy_score(Y_train, pred_train), \", mse:\", mean_squared_error(Y_train, pred_train))\n",
    "print(\"Test, accuracy:\", accuracy_score(Y_test, pred_test), \", mse:\", mean_squared_error(Y_test, pred_test))"
   ]
  },
  {
   "cell_type": "markdown",
   "metadata": {},
   "source": [
    "Conclusion so far\n",
    "=================\n",
    "\n",
    "Always predicting 'no' would arguably be the simplest model.\n",
    "The model without the categorical features has a similar accuracy.\n",
    "Adding categorical features doesn't seem to improve the accuracy significantly."
   ]
  },
  {
   "cell_type": "markdown",
   "metadata": {},
   "source": [
    "# Next steps\n",
    "* Look at data in more detail and engineer more features, polynomial etc.\n",
    "* Try different models\n",
    "* Do we have enough data?"
   ]
  }
 ],
 "metadata": {
  "kernelspec": {
   "display_name": "Python 3",
   "language": "python",
   "name": "python3"
  },
  "language_info": {
   "codemirror_mode": {
    "name": "ipython",
    "version": 3
   },
   "file_extension": ".py",
   "mimetype": "text/x-python",
   "name": "python",
   "nbconvert_exporter": "python",
   "pygments_lexer": "ipython3",
   "version": "3.5.2"
  }
 },
 "nbformat": 4,
 "nbformat_minor": 0
}
